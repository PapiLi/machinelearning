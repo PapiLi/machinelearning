{
 "cells": [
  {
   "cell_type": "code",
   "execution_count": 4,
   "metadata": {
    "collapsed": false
   },
   "outputs": [
    {
     "name": "stdout",
     "output_type": "stream",
     "text": [
      "Loaded data file pima-indians-diabetes.csv with 768 rows\n"
     ]
    }
   ],
   "source": [
    "#加载数据\n",
    "import csv\n",
    "def loadCsv(filename):\n",
    "  lines = csv.reader(open(filename, \"r\"))\n",
    "  dataset = list(lines)\n",
    "  for i in range(len(dataset)):\n",
    "    dataset[i] = [float(x) for x in dataset[i]]\n",
    "  return dataset\n",
    "\n",
    "filename = 'pima-indians-diabetes.csv'\n",
    "dataset = loadCsv(filename)\n",
    "print('Loaded data file {0} with {1} rows'.format(filename, len(dataset)))"
   ]
  },
  {
   "cell_type": "code",
   "execution_count": 5,
   "metadata": {
    "collapsed": true
   },
   "outputs": [],
   "source": [
    "#划分数据集\n",
    "import random\n",
    "def splitDataset(dataset, splitRatio):\n",
    "  trainSize = int(len(dataset) * splitRatio)\n",
    "  trainSet = []\n",
    "  copy = list(dataset)\n",
    "  while len(trainSet) < trainSize:\n",
    "    index = random.randrange(len(copy))\n",
    "    trainSet.append(copy.pop(index))\n",
    "  return [trainSet, copy]"
   ]
  },
  {
   "cell_type": "code",
   "execution_count": 6,
   "metadata": {
    "collapsed": false
   },
   "outputs": [
    {
     "name": "stdout",
     "output_type": "stream",
     "text": [
      "Split 5 rows into train with [[1], [3], [5]] and test with[[2], [4]]\n"
     ]
    }
   ],
   "source": [
    "dataset = [[1], [2], [3], [4], [5]]\n",
    "splitRatio = 0.67\n",
    "train, test = splitDataset(dataset, splitRatio)\n",
    "print(\"Split {0} rows into train with {1} and test with{2}\".format(len(dataset),train, test))"
   ]
  },
  {
   "cell_type": "code",
   "execution_count": 7,
   "metadata": {
    "collapsed": true
   },
   "outputs": [],
   "source": [
    "#按类划分\n",
    "def separateByClass(dataset):\n",
    "  separated = {}\n",
    "  for i in range(len(dataset)):\n",
    "    vector = dataset[i]\n",
    "    if (vector[-1] not in separated):\n",
    "      separated[vector[-1]] = []\n",
    "    separated[vector[-1]].append(vector)\n",
    "  return separated"
   ]
  },
  {
   "cell_type": "code",
   "execution_count": 9,
   "metadata": {
    "collapsed": false
   },
   "outputs": [
    {
     "name": "stdout",
     "output_type": "stream",
     "text": [
      "Separated instances: {0: [[2, 21, 0]], 1: [[1, 20, 1], [3, 22, 1]]}\n"
     ]
    }
   ],
   "source": [
    "dataset = [[1,20,1], [2,21,0], [3,22,1]]\n",
    "separated = separateByClass(dataset)\n",
    "print('Separated instances: {0}'.format(separated))"
   ]
  },
  {
   "cell_type": "code",
   "execution_count": 10,
   "metadata": {
    "collapsed": true
   },
   "outputs": [],
   "source": [
    "#求均值方差\n",
    "import math\n",
    "def mean(numbers):\n",
    "  return sum(numbers)/float(len(numbers))\n",
    " \n",
    "def stdev(numbers):\n",
    "  avg = mean(numbers)\n",
    "  variance = sum([pow(x-avg,2) for x in numbers])/float(len(numbers)-1)\n",
    "  return math.sqrt(variance)"
   ]
  },
  {
   "cell_type": "code",
   "execution_count": 12,
   "metadata": {
    "collapsed": false
   },
   "outputs": [
    {
     "name": "stdout",
     "output_type": "stream",
     "text": [
      "Summary of [1, 2, 3, 4, 5]: mean=3.0, stdev=1.5811388300841898\n"
     ]
    }
   ],
   "source": [
    "numbers = [1,2,3,4,5]\n",
    "print('Summary of {0}: mean={1}, stdev={2}'.format(numbers, mean(numbers), stdev(numbers)))"
   ]
  },
  {
   "cell_type": "code",
   "execution_count": 13,
   "metadata": {
    "collapsed": true
   },
   "outputs": [],
   "source": [
    "#提取数据集的特征 \n",
    "#zip函数将数据样本按照属性分组为一个个列表，然后可以对每个属性计算均值和标准差\n",
    "def summarize(dataset):\n",
    "  summaries = [(mean(attribute), stdev(attribute)) for attribute in zip(*dataset)]\n",
    "  del summaries[-1]\n",
    "  return summaries"
   ]
  },
  {
   "cell_type": "code",
   "execution_count": 15,
   "metadata": {
    "collapsed": false
   },
   "outputs": [
    {
     "name": "stdout",
     "output_type": "stream",
     "text": [
      "Attribute summaries: [(2.0, 1.0), (21.0, 1.0)]\n"
     ]
    }
   ],
   "source": [
    "dataset = [[1,20,0], [2,21,1], [3,22,0]]\n",
    "summary = summarize(dataset)\n",
    "print('Attribute summaries: {0}'.format(summary))"
   ]
  },
  {
   "cell_type": "code",
   "execution_count": 19,
   "metadata": {
    "collapsed": true
   },
   "outputs": [],
   "source": [
    "#按类提取特征\n",
    "def summarizeByClass(dataset):\n",
    "  separated = separateByClass(dataset)\n",
    "  summaries = {}\n",
    "  for classValue, instances in separated.items():\n",
    "    summaries[classValue] = summarize(instances)\n",
    "  return summaries"
   ]
  },
  {
   "cell_type": "code",
   "execution_count": 20,
   "metadata": {
    "collapsed": false
   },
   "outputs": [
    {
     "name": "stdout",
     "output_type": "stream",
     "text": [
      "Summary by class value: {0: [(3.0, 1.4142135623730951), (21.5, 0.7071067811865476)], 1: [(2.0, 1.4142135623730951), (21.0, 1.4142135623730951)]}\n"
     ]
    }
   ],
   "source": [
    "dataset = [[1,20,1], [2,21,0], [3,22,1], [4,22,0]]\n",
    "summary = summarizeByClass(dataset)\n",
    "print('Summary by class value: {0}'.format(summary))"
   ]
  },
  {
   "cell_type": "code",
   "execution_count": 21,
   "metadata": {
    "collapsed": true
   },
   "outputs": [],
   "source": [
    "#计算高斯概率密度函数\n",
    "import math\n",
    "def calculateProbability(x, mean, stdev):\n",
    "  exponent = math.exp(-(math.pow(x-mean,2)/(2*math.pow(stdev,2))))\n",
    "  return (1 / (math.sqrt(2*math.pi) * stdev)) * exponent"
   ]
  },
  {
   "cell_type": "code",
   "execution_count": 23,
   "metadata": {
    "collapsed": false
   },
   "outputs": [
    {
     "name": "stdout",
     "output_type": "stream",
     "text": [
      "Probability of belonging to this class: 0.06248965759370005\n"
     ]
    }
   ],
   "source": [
    "x = 71.5\n",
    "mean = 73\n",
    "stdev = 6.2\n",
    "probability = calculateProbability(x, mean, stdev)\n",
    "print('Probability of belonging to this class: {0}'.format(probability))"
   ]
  },
  {
   "cell_type": "code",
   "execution_count": 26,
   "metadata": {
    "collapsed": true
   },
   "outputs": [],
   "source": [
    "#计算所属类的概率\n",
    "def calculateClassProbabilities(summaries, inputVector):\n",
    "  probabilities = {}\n",
    "  for classValue, classSummaries in summaries.items():\n",
    "    probabilities[classValue] = 1\n",
    "    for i in range(len(classSummaries)):\n",
    "      mean, stdev = classSummaries[i]\n",
    "      x = inputVector[i]\n",
    "      probabilities[classValue] *= calculateProbability(x, mean, stdev)\n",
    "  return probabilities"
   ]
  },
  {
   "cell_type": "code",
   "execution_count": 27,
   "metadata": {
    "collapsed": false
   },
   "outputs": [
    {
     "name": "stdout",
     "output_type": "stream",
     "text": [
      "Probabilities for each class: {0: 0.7820853879509118, 1: 6.298736258150442e-05}\n"
     ]
    }
   ],
   "source": [
    "summaries = {0:[(1, 0.5)], 1:[(20, 5.0)]}\n",
    "inputVector = [1.1, '?']\n",
    "probabilities = calculateClassProbabilities(summaries, inputVector)\n",
    "print('Probabilities for each class: {0}'.format(probabilities))"
   ]
  },
  {
   "cell_type": "code",
   "execution_count": 28,
   "metadata": {
    "collapsed": true
   },
   "outputs": [],
   "source": [
    "#单一预测\n",
    "def predict(summaries, inputVector):\n",
    "  probabilities = calculateClassProbabilities(summaries, inputVector)\n",
    "  bestLabel, bestProb = None, -1\n",
    "  for classValue, probability in probabilities.items():\n",
    "    if bestLabel is None or probability > bestProb:\n",
    "      bestProb = probability\n",
    "      bestLabel = classValue\n",
    "  return bestLabel"
   ]
  },
  {
   "cell_type": "code",
   "execution_count": 30,
   "metadata": {
    "collapsed": false
   },
   "outputs": [
    {
     "name": "stdout",
     "output_type": "stream",
     "text": [
      "Prediction: A\n"
     ]
    }
   ],
   "source": [
    "summaries = {'A':[(1, 0.5)], 'B':[(20, 5.0)]}\n",
    "inputVector = [1.1, '?']\n",
    "result = predict(summaries, inputVector)\n",
    "print('Prediction: {0}'.format(result))"
   ]
  },
  {
   "cell_type": "code",
   "execution_count": 33,
   "metadata": {
    "collapsed": true
   },
   "outputs": [],
   "source": [
    "#多重预测\n",
    "def getPredictions(summaries, testSet):\n",
    "  predictions = []\n",
    "  for i in range(len(testSet)):\n",
    "    result = predict(summaries, testSet[i])\n",
    "    predictions.append(result)\n",
    "  return predictions"
   ]
  },
  {
   "cell_type": "code",
   "execution_count": 35,
   "metadata": {
    "collapsed": false
   },
   "outputs": [
    {
     "name": "stdout",
     "output_type": "stream",
     "text": [
      "Predictions: ['A', 'B']\n"
     ]
    }
   ],
   "source": [
    "summaries = {'A':[(1, 0.5)], 'B':[(20, 5.0)]}\n",
    "testSet = [[1.1, '?'], [19.1, '?']]\n",
    "predictions = getPredictions(summaries, testSet)\n",
    "print('Predictions: {0}'.format(predictions))"
   ]
  },
  {
   "cell_type": "code",
   "execution_count": 36,
   "metadata": {
    "collapsed": true
   },
   "outputs": [],
   "source": [
    "#计算精度\n",
    "def getAccuracy(testSet, predictions):\n",
    "    correct = 0\n",
    "    for x in range(len(testSet)):\n",
    "        if testSet[x][-1] == predictions[x]:\n",
    "            correct += 1\n",
    "    return (correct/float(len(testSet))) * 100.0"
   ]
  },
  {
   "cell_type": "code",
   "execution_count": 37,
   "metadata": {
    "collapsed": false
   },
   "outputs": [
    {
     "name": "stdout",
     "output_type": "stream",
     "text": [
      "Accuracy: 66.66666666666666%\n"
     ]
    }
   ],
   "source": [
    "testSet = [[1,1,1,'a'], [2,2,2,'a'],[3,3,3,'b']]\n",
    "predictions = ['a', 'a', 'a']\n",
    "accuracy = getAccuracy(testSet,predictions)\n",
    "print('Accuracy: {0}%'.format(accuracy))"
   ]
  },
  {
   "cell_type": "code",
   "execution_count": 40,
   "metadata": {
    "collapsed": false
   },
   "outputs": [
    {
     "name": "stdout",
     "output_type": "stream",
     "text": [
      "Split 768 rows into train=514 and test=254 rows\n",
      "Accuracy: 76.37795275590551%\n"
     ]
    }
   ],
   "source": [
    "#合并代码\n",
    "import csv\n",
    "import random\n",
    "import math\n",
    "\n",
    "#加载数据\n",
    "def loadCsv(filename):\n",
    "  lines = csv.reader(open(filename, \"r\"))\n",
    "  dataset = list(lines)\n",
    "  for i in range(len(dataset)):\n",
    "    dataset[i] = [float(x) for x in dataset[i]]\n",
    "  return dataset\n",
    "\n",
    "#划分数据集\n",
    "def splitDataset(dataset, splitRatio):\n",
    "  trainSize = int(len(dataset) * splitRatio)\n",
    "  trainSet = []\n",
    "  copy = list(dataset)\n",
    "  while len(trainSet) < trainSize:\n",
    "    index = random.randrange(len(copy))\n",
    "    trainSet.append(copy.pop(index))\n",
    "  return [trainSet, copy]\n",
    "\n",
    "#按类划分\n",
    "def separateByClass(dataset):\n",
    "  separated = {}\n",
    "  for i in range(len(dataset)):\n",
    "    vector = dataset[i]\n",
    "    if (vector[-1] not in separated):\n",
    "      separated[vector[-1]] = []\n",
    "    separated[vector[-1]].append(vector)\n",
    "  return separated\n",
    "\n",
    "#求均值方差\n",
    "def mean(numbers):\n",
    "  return sum(numbers)/float(len(numbers))\n",
    " \n",
    "def stdev(numbers):\n",
    "  avg = mean(numbers)\n",
    "  variance = sum([pow(x-avg,2) for x in numbers])/float(len(numbers)-1)\n",
    "  return math.sqrt(variance)\n",
    "\n",
    "#提取数据集的特征\n",
    "#zip函数将数据样本按照属性分组为一个个列表，然后可以对每个属性计算均值和标准差\n",
    "def summarize(dataset):\n",
    "  summaries = [(mean(attribute), stdev(attribute)) for attribute in zip(*dataset)]\n",
    "  del summaries[-1]\n",
    "  return summaries\n",
    "\n",
    "#按类提取特征\n",
    "def summarizeByClass(dataset):\n",
    "  separated = separateByClass(dataset)\n",
    "  summaries = {}\n",
    "  for classValue, instances in separated.items():\n",
    "    summaries[classValue] = summarize(instances)\n",
    "  return summaries\n",
    "\n",
    "#计算高斯概率密度函数\n",
    "def calculateProbability(x, mean, stdev):\n",
    "  exponent = math.exp(-(math.pow(x-mean,2)/(2*math.pow(stdev,2))))\n",
    "  return (1 / (math.sqrt(2*math.pi) * stdev)) * exponent\n",
    "\n",
    "#计算所属类的概率\n",
    "def calculateClassProbabilities(summaries, inputVector):\n",
    "  probabilities = {}\n",
    "  for classValue, classSummaries in summaries.items():\n",
    "    probabilities[classValue] = 1\n",
    "    for i in range(len(classSummaries)):\n",
    "      mean, stdev = classSummaries[i]\n",
    "      x = inputVector[i]\n",
    "      probabilities[classValue] *= calculateProbability(x, mean, stdev)\n",
    "  return probabilities\n",
    "\n",
    "#单一预测\n",
    "def predict(summaries, inputVector):\n",
    "  probabilities = calculateClassProbabilities(summaries, inputVector)\n",
    "  bestLabel, bestProb = None, -1\n",
    "  for classValue, probability in probabilities.items():\n",
    "    if bestLabel is None or probability > bestProb:\n",
    "      bestProb = probability\n",
    "      bestLabel = classValue\n",
    "  return bestLabel\n",
    "\n",
    "#多重预测\n",
    "def getPredictions(summaries, testSet):\n",
    "  predictions = []\n",
    "  for i in range(len(testSet)):\n",
    "    result = predict(summaries, testSet[i])\n",
    "    predictions.append(result)\n",
    "  return predictions\n",
    "\n",
    "#计算精度\n",
    "def getAccuracy(testSet, predictions):\n",
    "    correct = 0\n",
    "    for x in range(len(testSet)):\n",
    "        if testSet[x][-1] == predictions[x]:\n",
    "            correct += 1\n",
    "    return (correct/float(len(testSet))) * 100.0\n",
    "\n",
    "def main():\n",
    "    filename = 'pima-indians-diabetes.csv'\n",
    "    splitRatio = 0.67\n",
    "    dataset = loadCsv(filename)\n",
    "    #划分数据集\n",
    "    trainingSet, testSet = splitDataset(dataset, splitRatio)\n",
    "    print('Split {0} rows into train={1} and test={2} rows'.format(len(dataset), len(trainingSet), len(testSet)))\n",
    "     # prepare model\n",
    "    #将训练集按类别提取均值和方差的特征\n",
    "    summaries = summarizeByClass(trainingSet)\n",
    "    # test model\n",
    "    predictions = getPredictions(summaries, testSet)\n",
    "    accuracy = getAccuracy(testSet, predictions)\n",
    "    print('Accuracy: {0}%'.format(accuracy))\n",
    "main()"
   ]
  },
  {
   "cell_type": "code",
   "execution_count": null,
   "metadata": {
    "collapsed": true
   },
   "outputs": [],
   "source": []
  }
 ],
 "metadata": {
  "kernelspec": {
   "display_name": "Python [default]",
   "language": "python",
   "name": "python3"
  },
  "language_info": {
   "codemirror_mode": {
    "name": "ipython",
    "version": 3
   },
   "file_extension": ".py",
   "mimetype": "text/x-python",
   "name": "python",
   "nbconvert_exporter": "python",
   "pygments_lexer": "ipython3",
   "version": "3.5.2"
  }
 },
 "nbformat": 4,
 "nbformat_minor": 1
}
